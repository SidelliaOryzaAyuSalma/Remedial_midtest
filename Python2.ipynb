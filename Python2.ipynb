{
  "nbformat": 4,
  "nbformat_minor": 0,
  "metadata": {
    "colab": {
      "provenance": []
    },
    "kernelspec": {
      "name": "python3",
      "display_name": "Python 3"
    },
    "language_info": {
      "name": "python"
    }
  },
  "cells": [
    {
      "cell_type": "markdown",
      "source": [
        "# Python 2 : Find Distance Between Two Coordinates"
      ],
      "metadata": {
        "id": "3Oo6w53t-WAz"
      }
    },
    {
      "cell_type": "markdown",
      "source": [
        "Task\n",
        "Create a function called distance that does the following:\n",
        "\n",
        "Given two coordinates in a list. Your task is to calculate the distance between these two coordinates. The input of your function will be two list. Each list contains 2 members, representing the x and y position."
      ],
      "metadata": {
        "id": "ci-pDzMX-l2t"
      }
    },
    {
      "cell_type": "code",
      "source": [
        "import math\n",
        "def distance(point_1, point_2):\n",
        "  squared_x = (point_1[0] - point_2[0])**2\n",
        "  squared_y = (point_1[1] - point_2[1])**2\n",
        "  distance = math.sqrt(squared_x + squared_y)\n",
        "  return distance\n",
        "\n",
        "point_1 = [7, 3]\n",
        "point_2 = [2, 4]\n",
        "print(distance(point_1, point_2))"
      ],
      "metadata": {
        "colab": {
          "base_uri": "https://localhost:8080/"
        },
        "id": "rdvupKoe-1BO",
        "outputId": "5e044f77-8dea-49a2-c794-16a2f1742522"
      },
      "execution_count": 2,
      "outputs": [
        {
          "output_type": "stream",
          "name": "stdout",
          "text": [
            "5.0990195135927845\n"
          ]
        }
      ]
    }
  ]
}