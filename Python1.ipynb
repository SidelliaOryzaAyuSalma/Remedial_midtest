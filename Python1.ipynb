{
  "nbformat": 4,
  "nbformat_minor": 0,
  "metadata": {
    "colab": {
      "provenance": []
    },
    "kernelspec": {
      "name": "python3",
      "display_name": "Python 3"
    },
    "language_info": {
      "name": "python"
    }
  },
  "cells": [
    {
      "cell_type": "markdown",
      "source": [
        "# Python 1 : Who is in the third place?\n",
        "\n",
        "\n",
        "\n"
      ],
      "metadata": {
        "id": "QXyjOeRtmJf-"
      }
    },
    {
      "cell_type": "markdown",
      "source": [
        "# Example 1 :\n",
        "\n",
        "**Input:**\n",
        "\n",
        "names = [Andi, Budi, Charlie, Dilan, Echa]\n",
        "score = [80, 90, 95, 100, 85]\n",
        "\n",
        "This means, Andi gets 80, Budi gets 90, Charlie gets 95, Dilan gets 100, and Echa gets 85. The first best score is 100, and Dilan gets it. The second best score is 95, and Charlie gets it. The third best score is 90, and Budi gets it. So, our output should be Budi.\n",
        "\n",
        "**Output:** 'The third winner: Budi'."
      ],
      "metadata": {
        "id": "cRpcbwB1j144"
      }
    },
    {
      "cell_type": "code",
      "source": [
        "def third_place(names, score):\n",
        "  new_dict = dict(zip(names, score))\n",
        "  for key in new_dict:\n",
        "    if new_dict[key] == sorted(score, reverse = True)[2]:\n",
        "      return f\"The third winner: {key}\"\n",
        "\n",
        "names = ['Andi', 'Budi', 'Charlie', 'Dilan', 'Echa']\n",
        "score = [80, 90, 95, 100, 85]\n",
        "\n",
        "third_place(names, score)"
      ],
      "metadata": {
        "colab": {
          "base_uri": "https://localhost:8080/",
          "height": 35
        },
        "id": "r2TjrIXeXtaI",
        "outputId": "557ab222-b2ac-48c1-fa7f-3ed2248e7728"
      },
      "execution_count": 44,
      "outputs": [
        {
          "output_type": "execute_result",
          "data": {
            "text/plain": [
              "'The third winner: Budi'"
            ],
            "application/vnd.google.colaboratory.intrinsic+json": {
              "type": "string"
            }
          },
          "metadata": {},
          "execution_count": 44
        }
      ]
    },
    {
      "cell_type": "markdown",
      "source": [
        "# Example 2:\n",
        "\n",
        "**Input:**\n",
        "\n",
        "names = [Andi, Budi, Charlie, Dilan, Echa]\n",
        "score = [80, 80, 80, 100, 90]\n",
        "\n",
        "This means, Andi, Budi, and Charlie gets 80, Dilan gets 100, and Echa gets 90. The third best score is 80, and our output should list ALL of the participants who get 80.\n",
        "\n",
        "**Output:** 'The third winner: Andi, Budi, Charlie'."
      ],
      "metadata": {
        "id": "7W_rfAuBkjfJ"
      }
    },
    {
      "cell_type": "code",
      "source": [
        "def third_place(names, score):\n",
        "  new_dict = dict(zip(names, score))\n",
        "  new_top_names_list = []\n",
        "  for key in new_dict:\n",
        "      if new_dict[key] == sorted(score, reverse =True)[2]:\n",
        "        new_top_names_list.append(key)\n",
        "  return f\"The third winner: {','.join(new_top_names_list[:3])}\"\n",
        "\n",
        "names = ['Andi', 'Budi', 'Charlie', 'Dilan', 'Echa']\n",
        "score = [80, 80, 80, 100, 90]\n",
        "\n",
        "third_place(names, score)\n"
      ],
      "metadata": {
        "colab": {
          "base_uri": "https://localhost:8080/",
          "height": 35
        },
        "id": "8ATr48i9Z4Px",
        "outputId": "1e6d762b-5085-4772-df7e-9963905fb9f4"
      },
      "execution_count": 34,
      "outputs": [
        {
          "output_type": "execute_result",
          "data": {
            "text/plain": [
              "'The third winner: Andi,Budi,Charlie'"
            ],
            "application/vnd.google.colaboratory.intrinsic+json": {
              "type": "string"
            }
          },
          "metadata": {},
          "execution_count": 34
        }
      ]
    },
    {
      "cell_type": "markdown",
      "source": [
        "# Example 3:\n",
        "**Input:**\n",
        "\n",
        "names = [Andi, Budi, Charlie, Dilan, Echa, Fanya]\n",
        "\n",
        "score = [80, 90, 90, 100, 100, 80]\n",
        "\n",
        "The first best score (first winner) is 100 - Dilan and Echa shared this position. The second best score (second winner) is 90 - Budi and Charlie shared this position. The third best score (third winner) is 80, and it is shared by Andi and Fanya. So, our output should be Andi and Fanya.\n",
        "\n",
        "Output: 'The third winner: Andi, Fanya'."
      ],
      "metadata": {
        "id": "WJ-psmEnlA8D"
      }
    },
    {
      "cell_type": "code",
      "source": [
        "def third_place(names, score):\n",
        "  new_dict = dict(zip(names, score))\n",
        "  new_top_names_list = []\n",
        "  for key in new_dict:\n",
        "      if new_dict[key] == sorted(set(score), reverse =True)[2]:\n",
        "        new_top_names_list.append(key)\n",
        "  return f\"The third winner: {','.join(new_top_names_list[:3])}\"\n",
        "\n",
        "names = ['Andi', 'Budi', 'Charlie', 'Dilan', 'Echa', 'Fanya']\n",
        "score = [80, 90, 90, 100, 100, 80]\n",
        "\n",
        "third_place(names, score)"
      ],
      "metadata": {
        "colab": {
          "base_uri": "https://localhost:8080/",
          "height": 35
        },
        "id": "MXVfSv1Ug0Mv",
        "outputId": "8e829ff5-c953-4b4c-d6c6-8f2914a7d0eb"
      },
      "execution_count": 43,
      "outputs": [
        {
          "output_type": "execute_result",
          "data": {
            "text/plain": [
              "'The third winner: Andi,Fanya'"
            ],
            "application/vnd.google.colaboratory.intrinsic+json": {
              "type": "string"
            }
          },
          "metadata": {},
          "execution_count": 43
        }
      ]
    },
    {
      "cell_type": "markdown",
      "source": [
        "# Task\n",
        "\n",
        "Create a function whose name is third_place that does the following:\n",
        "\n",
        "Given a list of test score and a list of participants name. The desired output would be the name of the participant who gets the 3rd best score. The rule of determining the order of the best score is as follows:\n",
        "\n",
        "*  Higher score is better\n",
        "*  In case of multiple participants having the same test score, they can occupy the same ranking value. For example, if 2 participants scored 100, then both of them occupy the first place.\n",
        "\n",
        "\n",
        "The first input of the function is the name list, and the second input to the function is the score list."
      ],
      "metadata": {
        "id": "T5ul1NQAlYpC"
      }
    },
    {
      "cell_type": "code",
      "source": [
        "def third_place(names, score):\n",
        "  new_dict = dict(zip(names, score))\n",
        "  for key in new_dict:\n",
        "    if new_dict[key] == sorted(score, reverse = True)[2]:\n",
        "      return f\"The third winner: {key}\"\n",
        "\n",
        "names = ['salma', 'Ayu', 'Wisnu', 'Fatih', 'Riza']\n",
        "score = [70, 80, 95, 100, 90]\n",
        "\n",
        "third_place(names, score)"
      ],
      "metadata": {
        "colab": {
          "base_uri": "https://localhost:8080/",
          "height": 35
        },
        "id": "SdKXOJY6lsTY",
        "outputId": "6863fbef-7f34-494c-9307-53d32a649f67"
      },
      "execution_count": 41,
      "outputs": [
        {
          "output_type": "execute_result",
          "data": {
            "text/plain": [
              "'The third winner: Riza'"
            ],
            "application/vnd.google.colaboratory.intrinsic+json": {
              "type": "string"
            }
          },
          "metadata": {},
          "execution_count": 41
        }
      ]
    },
    {
      "cell_type": "code",
      "source": [
        "def third_place(names, score):\n",
        "  new_dict = dict(zip(names, score))\n",
        "  new_top_names_list = []\n",
        "  for key in new_dict:\n",
        "      if new_dict[key] == sorted(score, reverse =True)[2]:\n",
        "        new_top_names_list.append(key)\n",
        "  return f\"The third winner: {','.join(new_top_names_list[:3])}\"\n",
        "\n",
        "names = ['Salma', 'Ayu', 'Wisnu', 'fatih', 'Riza']\n",
        "score = [100, 85, 85, 85, 90]\n",
        "\n",
        "third_place(names, score)"
      ],
      "metadata": {
        "colab": {
          "base_uri": "https://localhost:8080/",
          "height": 35
        },
        "id": "NCtLPtxZlxbm",
        "outputId": "b9c66066-a65d-43eb-e48f-feca284466a4"
      },
      "execution_count": 42,
      "outputs": [
        {
          "output_type": "execute_result",
          "data": {
            "text/plain": [
              "'The third winner: Ayu,Wisnu,fatih'"
            ],
            "application/vnd.google.colaboratory.intrinsic+json": {
              "type": "string"
            }
          },
          "metadata": {},
          "execution_count": 42
        }
      ]
    },
    {
      "cell_type": "code",
      "source": [
        "def third_place(names, score):\n",
        "  new_dict = dict(zip(names, score))\n",
        "  new_top_names_list = []\n",
        "  for key in new_dict:\n",
        "      if new_dict[key] == sorted(set(score), reverse =True)[2]:\n",
        "        new_top_names_list.append(key)\n",
        "  return f\"The third winner: {','.join(new_top_names_list[:3])}\"\n",
        "\n",
        "names = ['Salma', 'Ayu', 'Wisnu', 'Fatih', 'Riza', 'Adel']\n",
        "score = [90, 90, 85, 100, 85, 100]\n",
        "\n",
        "third_place(names, score)"
      ],
      "metadata": {
        "colab": {
          "base_uri": "https://localhost:8080/",
          "height": 35
        },
        "id": "OmVxwiM4l4ja",
        "outputId": "c437213f-3470-4dd2-e8bb-5951411707e7"
      },
      "execution_count": 40,
      "outputs": [
        {
          "output_type": "execute_result",
          "data": {
            "text/plain": [
              "'The third winner: Wisnu,Riza'"
            ],
            "application/vnd.google.colaboratory.intrinsic+json": {
              "type": "string"
            }
          },
          "metadata": {},
          "execution_count": 40
        }
      ]
    }
  ]
}